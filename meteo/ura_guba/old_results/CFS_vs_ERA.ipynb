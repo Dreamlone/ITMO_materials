{
 "cells": [
  {
   "cell_type": "code",
   "execution_count": 13,
   "metadata": {},
   "outputs": [],
   "source": [
    "import os\n",
    "import numpy as np\n",
    "import pandas as pd"
   ]
  },
  {
   "cell_type": "markdown",
   "metadata": {},
   "source": [
    "W - скорость ветра\n",
    "\n",
    "# Ура-Губа"
   ]
  },
  {
   "cell_type": "code",
   "execution_count": 14,
   "metadata": {},
   "outputs": [
    {
     "data": {
      "text/html": [
       "<div>\n",
       "<style scoped>\n",
       "    .dataframe tbody tr th:only-of-type {\n",
       "        vertical-align: middle;\n",
       "    }\n",
       "\n",
       "    .dataframe tbody tr th {\n",
       "        vertical-align: top;\n",
       "    }\n",
       "\n",
       "    .dataframe thead th {\n",
       "        text-align: right;\n",
       "    }\n",
       "</style>\n",
       "<table border=\"1\" class=\"dataframe\">\n",
       "  <thead>\n",
       "    <tr style=\"text-align: right;\">\n",
       "      <th></th>\n",
       "      <th>Переменная</th>\n",
       "      <th>BIAS</th>\n",
       "      <th>MAE</th>\n",
       "      <th>СКО</th>\n",
       "      <th>Корреляция</th>\n",
       "    </tr>\n",
       "  </thead>\n",
       "  <tbody>\n",
       "    <tr>\n",
       "      <th>0</th>\n",
       "      <td>U (м/с)</td>\n",
       "      <td>-0.568231</td>\n",
       "      <td>1.173935</td>\n",
       "      <td>2.400244</td>\n",
       "      <td>0.833309</td>\n",
       "    </tr>\n",
       "    <tr>\n",
       "      <th>1</th>\n",
       "      <td>V (м/с)</td>\n",
       "      <td>-0.308162</td>\n",
       "      <td>1.268018</td>\n",
       "      <td>2.264821</td>\n",
       "      <td>0.730568</td>\n",
       "    </tr>\n",
       "    <tr>\n",
       "      <th>2</th>\n",
       "      <td>W (м/с)</td>\n",
       "      <td>-0.594774</td>\n",
       "      <td>1.120571</td>\n",
       "      <td>1.870754</td>\n",
       "      <td>0.730532</td>\n",
       "    </tr>\n",
       "    <tr>\n",
       "      <th>3</th>\n",
       "      <td>Wпик (м/с)</td>\n",
       "      <td>-2.003771</td>\n",
       "      <td>2.012576</td>\n",
       "      <td>0.587087</td>\n",
       "      <td>0.434288</td>\n",
       "    </tr>\n",
       "  </tbody>\n",
       "</table>\n",
       "</div>"
      ],
      "text/plain": [
       "   Переменная      BIAS       MAE       СКО  Корреляция\n",
       "0     U (м/с) -0.568231  1.173935  2.400244    0.833309\n",
       "1     V (м/с) -0.308162  1.268018  2.264821    0.730568\n",
       "2     W (м/с) -0.594774  1.120571  1.870754    0.730532\n",
       "3  Wпик (м/с) -2.003771  2.012576  0.587087    0.434288"
      ]
     },
     "execution_count": 14,
     "metadata": {},
     "output_type": "execute_result"
    }
   ],
   "source": [
    "path = 'D:/ura-guba/meteo'\n",
    "\n",
    "cfs_df = pd.read_csv(os.path.join(path,'Ura_report_cfs.csv'))\n",
    "era_df = pd.read_csv(os.path.join(path,'Ura_report_era.csv'))\n",
    "\n",
    "cfs_df"
   ]
  },
  {
   "cell_type": "code",
   "execution_count": 15,
   "metadata": {},
   "outputs": [
    {
     "data": {
      "text/html": [
       "<div>\n",
       "<style scoped>\n",
       "    .dataframe tbody tr th:only-of-type {\n",
       "        vertical-align: middle;\n",
       "    }\n",
       "\n",
       "    .dataframe tbody tr th {\n",
       "        vertical-align: top;\n",
       "    }\n",
       "\n",
       "    .dataframe thead th {\n",
       "        text-align: right;\n",
       "    }\n",
       "</style>\n",
       "<table border=\"1\" class=\"dataframe\">\n",
       "  <thead>\n",
       "    <tr style=\"text-align: right;\">\n",
       "      <th></th>\n",
       "      <th>Переменная</th>\n",
       "      <th>BIAS</th>\n",
       "      <th>MAE</th>\n",
       "      <th>СКО</th>\n",
       "      <th>Корреляция</th>\n",
       "    </tr>\n",
       "  </thead>\n",
       "  <tbody>\n",
       "    <tr>\n",
       "      <th>0</th>\n",
       "      <td>U (м/с)</td>\n",
       "      <td>0.085460</td>\n",
       "      <td>1.390711</td>\n",
       "      <td>2.710726</td>\n",
       "      <td>0.776706</td>\n",
       "    </tr>\n",
       "    <tr>\n",
       "      <th>1</th>\n",
       "      <td>V (м/с)</td>\n",
       "      <td>-0.558916</td>\n",
       "      <td>1.721713</td>\n",
       "      <td>2.821351</td>\n",
       "      <td>0.721572</td>\n",
       "    </tr>\n",
       "    <tr>\n",
       "      <th>2</th>\n",
       "      <td>W (м/с)</td>\n",
       "      <td>0.061817</td>\n",
       "      <td>1.255077</td>\n",
       "      <td>2.100037</td>\n",
       "      <td>0.657364</td>\n",
       "    </tr>\n",
       "    <tr>\n",
       "      <th>3</th>\n",
       "      <td>Wпик (м/с)</td>\n",
       "      <td>-1.405436</td>\n",
       "      <td>1.503865</td>\n",
       "      <td>1.071517</td>\n",
       "      <td>0.383587</td>\n",
       "    </tr>\n",
       "  </tbody>\n",
       "</table>\n",
       "</div>"
      ],
      "text/plain": [
       "   Переменная      BIAS       MAE       СКО  Корреляция\n",
       "0     U (м/с)  0.085460  1.390711  2.710726    0.776706\n",
       "1     V (м/с) -0.558916  1.721713  2.821351    0.721572\n",
       "2     W (м/с)  0.061817  1.255077  2.100037    0.657364\n",
       "3  Wпик (м/с) -1.405436  1.503865  1.071517    0.383587"
      ]
     },
     "execution_count": 15,
     "metadata": {},
     "output_type": "execute_result"
    }
   ],
   "source": [
    "era_df"
   ]
  },
  {
   "cell_type": "markdown",
   "metadata": {},
   "source": [
    "# Полярный"
   ]
  },
  {
   "cell_type": "code",
   "execution_count": 16,
   "metadata": {},
   "outputs": [
    {
     "data": {
      "text/html": [
       "<div>\n",
       "<style scoped>\n",
       "    .dataframe tbody tr th:only-of-type {\n",
       "        vertical-align: middle;\n",
       "    }\n",
       "\n",
       "    .dataframe tbody tr th {\n",
       "        vertical-align: top;\n",
       "    }\n",
       "\n",
       "    .dataframe thead th {\n",
       "        text-align: right;\n",
       "    }\n",
       "</style>\n",
       "<table border=\"1\" class=\"dataframe\">\n",
       "  <thead>\n",
       "    <tr style=\"text-align: right;\">\n",
       "      <th></th>\n",
       "      <th>Переменная</th>\n",
       "      <th>BIAS</th>\n",
       "      <th>MAE</th>\n",
       "      <th>СКО</th>\n",
       "      <th>Корреляция</th>\n",
       "    </tr>\n",
       "  </thead>\n",
       "  <tbody>\n",
       "    <tr>\n",
       "      <th>0</th>\n",
       "      <td>U (м/с)</td>\n",
       "      <td>-0.199826</td>\n",
       "      <td>1.391753</td>\n",
       "      <td>3.303705</td>\n",
       "      <td>0.843672</td>\n",
       "    </tr>\n",
       "    <tr>\n",
       "      <th>1</th>\n",
       "      <td>V (м/с)</td>\n",
       "      <td>0.586344</td>\n",
       "      <td>1.311853</td>\n",
       "      <td>2.910021</td>\n",
       "      <td>0.820058</td>\n",
       "    </tr>\n",
       "    <tr>\n",
       "      <th>2</th>\n",
       "      <td>W (м/с)</td>\n",
       "      <td>-0.899996</td>\n",
       "      <td>1.428205</td>\n",
       "      <td>2.312947</td>\n",
       "      <td>0.723237</td>\n",
       "    </tr>\n",
       "    <tr>\n",
       "      <th>3</th>\n",
       "      <td>Wпик (м/с)</td>\n",
       "      <td>-2.628297</td>\n",
       "      <td>2.688243</td>\n",
       "      <td>1.328757</td>\n",
       "      <td>0.219752</td>\n",
       "    </tr>\n",
       "  </tbody>\n",
       "</table>\n",
       "</div>"
      ],
      "text/plain": [
       "   Переменная      BIAS       MAE       СКО  Корреляция\n",
       "0     U (м/с) -0.199826  1.391753  3.303705    0.843672\n",
       "1     V (м/с)  0.586344  1.311853  2.910021    0.820058\n",
       "2     W (м/с) -0.899996  1.428205  2.312947    0.723237\n",
       "3  Wпик (м/с) -2.628297  2.688243  1.328757    0.219752"
      ]
     },
     "execution_count": 16,
     "metadata": {},
     "output_type": "execute_result"
    }
   ],
   "source": [
    "cfs_df = pd.read_csv(os.path.join(path,'Pol_report_cfs.csv'))\n",
    "era_df = pd.read_csv(os.path.join(path,'Pol_report_era.csv'))\n",
    "\n",
    "cfs_df"
   ]
  },
  {
   "cell_type": "code",
   "execution_count": 17,
   "metadata": {},
   "outputs": [
    {
     "data": {
      "text/html": [
       "<div>\n",
       "<style scoped>\n",
       "    .dataframe tbody tr th:only-of-type {\n",
       "        vertical-align: middle;\n",
       "    }\n",
       "\n",
       "    .dataframe tbody tr th {\n",
       "        vertical-align: top;\n",
       "    }\n",
       "\n",
       "    .dataframe thead th {\n",
       "        text-align: right;\n",
       "    }\n",
       "</style>\n",
       "<table border=\"1\" class=\"dataframe\">\n",
       "  <thead>\n",
       "    <tr style=\"text-align: right;\">\n",
       "      <th></th>\n",
       "      <th>Переменная</th>\n",
       "      <th>BIAS</th>\n",
       "      <th>MAE</th>\n",
       "      <th>СКО</th>\n",
       "      <th>Корреляция</th>\n",
       "    </tr>\n",
       "  </thead>\n",
       "  <tbody>\n",
       "    <tr>\n",
       "      <th>0</th>\n",
       "      <td>U (м/с)</td>\n",
       "      <td>-0.017502</td>\n",
       "      <td>1.712193</td>\n",
       "      <td>3.733525</td>\n",
       "      <td>0.820978</td>\n",
       "    </tr>\n",
       "    <tr>\n",
       "      <th>1</th>\n",
       "      <td>V (м/с)</td>\n",
       "      <td>0.321571</td>\n",
       "      <td>1.688162</td>\n",
       "      <td>3.587763</td>\n",
       "      <td>0.801144</td>\n",
       "    </tr>\n",
       "    <tr>\n",
       "      <th>2</th>\n",
       "      <td>W (м/с)</td>\n",
       "      <td>-0.633132</td>\n",
       "      <td>1.577231</td>\n",
       "      <td>2.557758</td>\n",
       "      <td>0.656931</td>\n",
       "    </tr>\n",
       "    <tr>\n",
       "      <th>3</th>\n",
       "      <td>Wпик (м/с)</td>\n",
       "      <td>-3.148499</td>\n",
       "      <td>3.176332</td>\n",
       "      <td>1.596024</td>\n",
       "      <td>0.366397</td>\n",
       "    </tr>\n",
       "  </tbody>\n",
       "</table>\n",
       "</div>"
      ],
      "text/plain": [
       "   Переменная      BIAS       MAE       СКО  Корреляция\n",
       "0     U (м/с) -0.017502  1.712193  3.733525    0.820978\n",
       "1     V (м/с)  0.321571  1.688162  3.587763    0.801144\n",
       "2     W (м/с) -0.633132  1.577231  2.557758    0.656931\n",
       "3  Wпик (м/с) -3.148499  3.176332  1.596024    0.366397"
      ]
     },
     "execution_count": 17,
     "metadata": {},
     "output_type": "execute_result"
    }
   ],
   "source": [
    "era_df"
   ]
  }
 ],
 "metadata": {
  "kernelspec": {
   "display_name": "Python 3",
   "language": "python",
   "name": "python3"
  },
  "language_info": {
   "codemirror_mode": {
    "name": "ipython",
    "version": 3
   },
   "file_extension": ".py",
   "mimetype": "text/x-python",
   "name": "python",
   "nbconvert_exporter": "python",
   "pygments_lexer": "ipython3",
   "version": "3.8.5"
  }
 },
 "nbformat": 4,
 "nbformat_minor": 4
}
